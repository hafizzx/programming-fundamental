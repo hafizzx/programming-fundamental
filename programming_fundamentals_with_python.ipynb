{
  "nbformat": 4,
  "nbformat_minor": 0,
  "metadata": {
    "colab": {
      "provenance": [],
      "authorship_tag": "ABX9TyPt35b9Bm7UQ5tl0+0oIkN6",
      "include_colab_link": true
    },
    "kernelspec": {
      "name": "python3",
      "display_name": "Python 3"
    },
    "language_info": {
      "name": "python"
    }
  },
  "cells": [
    {
      "cell_type": "markdown",
      "metadata": {
        "id": "view-in-github",
        "colab_type": "text"
      },
      "source": [
        "<a href=\"https://colab.research.google.com/github/hafizzx/programming-fundamental/blob/main/programming_fundamentals_with_python.ipynb\" target=\"_parent\"><img src=\"https://colab.research.google.com/assets/colab-badge.svg\" alt=\"Open In Colab\"/></a>"
      ]
    },
    {
      "cell_type": "markdown",
      "source": [
        "1) First Program"
      ],
      "metadata": {
        "id": "VpvGYXc2qVFb"
      }
    },
    {
      "cell_type": "code",
      "source": [
        "#enter two inputs\n",
        "fname=str(input('Enter your F name: '))\n",
        "lname=str(input('Enter your L name: '))\n",
        "#use variable Full_name and store them\n",
        "Full_name=fname+''+lname\n",
        "print(Full_name)"
      ],
      "metadata": {
        "colab": {
          "base_uri": "https://localhost:8080/"
        },
        "id": "FGylimc2oB1j",
        "outputId": "206c6fe7-0086-44a2-c47d-21dd9212c154"
      },
      "execution_count": 3,
      "outputs": [
        {
          "output_type": "stream",
          "name": "stdout",
          "text": [
            "Enter your F name: Hafiz\n",
            "Enter your L name: Abdullah\n",
            "HafizAbdullah\n"
          ]
        }
      ]
    },
    {
      "cell_type": "markdown",
      "source": [
        " 2) Program - Find the sum of a 4 digit number entered by the user"
      ],
      "metadata": {
        "id": "xjt-bHiQ1Oa1"
      }
    },
    {
      "cell_type": "code",
      "source": [
        "num=int(input('Enter a 4 digit Number'))\n",
        "a=num%10\n",
        "num=num//10\n",
        "b=num%10\n",
        "num=num//10\n",
        "c=num%10\n",
        "num=num//10\n",
        "d=num%10\n",
        "sum=a+b+c+d\n",
        "print(sum)\n"
      ],
      "metadata": {
        "colab": {
          "base_uri": "https://localhost:8080/"
        },
        "id": "ncz1DpPFEqNt",
        "outputId": "b3d06aad-de61-4252-b3dc-b88442564d11"
      },
      "execution_count": 5,
      "outputs": [
        {
          "output_type": "stream",
          "name": "stdout",
          "text": [
            "Enter a 4 digit Number4554\n",
            "18\n"
          ]
        }
      ]
    },
    {
      "cell_type": "markdown",
      "source": [
        "3) Program-Login program and indentation"
      ],
      "metadata": {
        "id": "t7jll7VUItOd"
      }
    },
    {
      "cell_type": "code",
      "source": [
        "email=input('Enter Your Email: ')\n",
        "passward=input('Enter Your Passward: ')\n",
        "if email == 'karnalhafizabdullah@gmail.com' and passward == '123':\n",
        "  print('WELCOME')\n",
        "elif email == 'karnalhafizabdullah@gmail.com' and passward != '123':\n",
        "  print('Invalid Passward: ')\n",
        "  passward=input('Enter your Passward')\n",
        "  if passward =='123':\n",
        "    print('WELCOME')\n",
        "  else:\n",
        "    print('Tum sy naa hoo pye ga')\n",
        "else:\n",
        "  print('Invalid Passward')"
      ],
      "metadata": {
        "colab": {
          "base_uri": "https://localhost:8080/"
        },
        "id": "XPrjae27MGvk",
        "outputId": "23e33ec7-f869-4b7e-c5af-3a88e9dcf0c3"
      },
      "execution_count": 11,
      "outputs": [
        {
          "output_type": "stream",
          "name": "stdout",
          "text": [
            "Enter Your Email: karnalhafizabdullah@gmail.com\n",
            "Enter Your Passward: 124\n",
            "Invalid Passward\n",
            "Enter your Passward123\n",
            "WELCOME\n"
          ]
        }
      ]
    },
    {
      "cell_type": "markdown",
      "source": [
        "4) Program to print the table"
      ],
      "metadata": {
        "id": "DOrxyEyNQmUC"
      }
    },
    {
      "cell_type": "code",
      "source": [
        "num=int(input('Enter the Number'))\n",
        "i=1\n",
        "while i<=10:\n",
        " print(num,'*',i,'=',num*i)\n",
        " i=i+1\n"
      ],
      "metadata": {
        "colab": {
          "base_uri": "https://localhost:8080/"
        },
        "id": "AsfM5VyeQpiI",
        "outputId": "06425abd-3d6d-4c4f-ccb6-8f9018237c14"
      },
      "execution_count": 3,
      "outputs": [
        {
          "output_type": "stream",
          "name": "stdout",
          "text": [
            "Enter the Number12\n",
            "12 * 1 = 12\n",
            "12 * 2 = 24\n",
            "12 * 3 = 36\n",
            "12 * 4 = 48\n",
            "12 * 5 = 60\n",
            "12 * 6 = 72\n",
            "12 * 7 = 84\n",
            "12 * 8 = 96\n",
            "12 * 9 = 108\n",
            "12 * 10 = 120\n"
          ]
        }
      ]
    },
    {
      "cell_type": "markdown",
      "source": [
        "5) Program-Number Guessing game"
      ],
      "metadata": {
        "id": "eoTt_Fw01Xy9"
      }
    },
    {
      "cell_type": "code",
      "source": [
        "import random\n",
        "jackport=random.randint(1,50)\n",
        "guess=int(input('Koi b Number Guess kro!'))\n",
        "count=1\n",
        "while guess != jackport:\n",
        "  if guess < jackport:\n",
        "    print('in correct! Guess Higher')\n",
        "  else:\n",
        "    print('in correct! Guess lower')\n",
        "  guess=int(input('Koi b Number Guess kro!'))\n",
        "  count=count+1\n",
        "else:\n",
        "  print('Correct')\n",
        "  print('Attempts',count)\n",
        "\n"
      ],
      "metadata": {
        "colab": {
          "base_uri": "https://localhost:8080/"
        },
        "id": "jPItFNyf4j2m",
        "outputId": "09179c26-2eab-4e74-d17f-983232ed1b75"
      },
      "execution_count": 9,
      "outputs": [
        {
          "output_type": "stream",
          "name": "stdout",
          "text": [
            "Koi b Number Guess kro!45\n",
            "in correct! Guess lower\n",
            "Koi b Number Guess kro!23\n",
            "in correct! Guess Higher\n",
            "Koi b Number Guess kro!34\n",
            "in correct! Guess Higher\n",
            "Koi b Number Guess kro!38\n",
            "in correct! Guess Higher\n",
            "Koi b Number Guess kro!40\n",
            "in correct! Guess Higher\n",
            "Koi b Number Guess kro!42\n",
            "Correct\n",
            "Attempts 6\n"
          ]
        }
      ]
    },
    {
      "cell_type": "markdown",
      "source": [
        "6) Program - The current population of a town is 50000. The population of the town is increasing at the rate of 15% per year. You have to write a program to find out the population at the end of each of the last 5 years."
      ],
      "metadata": {
        "id": "nETOLl8F_uf-"
      }
    },
    {
      "cell_type": "code",
      "source": [
        "current_pop = 50000\n",
        "for i in range(5,0,-1):\n",
        "  print(i,current_pop)\n",
        "  current_pop = current_pop/1.1\n"
      ],
      "metadata": {
        "colab": {
          "base_uri": "https://localhost:8080/"
        },
        "id": "ofkUFtZ0_yCK",
        "outputId": "262cca34-f347-4150-88cc-48199a1067f8"
      },
      "execution_count": 14,
      "outputs": [
        {
          "output_type": "stream",
          "name": "stdout",
          "text": [
            "5 50000\n",
            "4 45454.54545454545\n",
            "3 41322.31404958677\n",
            "2 37565.74004507888\n",
            "1 34150.67276825352\n"
          ]
        }
      ]
    },
    {
      "cell_type": "markdown",
      "source": [
        "7) Program-Sequence sum\n",
        "1/1! + 2/2! + 3/3! + ..."
      ],
      "metadata": {
        "id": "ZVAOAk_AOqWV"
      }
    },
    {
      "cell_type": "code",
      "source": [
        "n = int(input('Enter a number'))\n",
        "result=0\n",
        "fact = 1\n",
        "for i in range (1,n+1):\n",
        "  fact = fact*i\n",
        "  result = result + 1/fact\n",
        "  print(result)"
      ],
      "metadata": {
        "colab": {
          "base_uri": "https://localhost:8080/"
        },
        "id": "4scvxRL3OsPA",
        "outputId": "bb50cef4-1e94-403f-d9d7-8a17141b7c6f"
      },
      "execution_count": 17,
      "outputs": [
        {
          "output_type": "stream",
          "name": "stdout",
          "text": [
            "Enter a number4\n",
            "1.0\n",
            "1.5\n",
            "1.6666666666666667\n",
            "1.7083333333333335\n"
          ]
        }
      ]
    },
    {
      "cell_type": "markdown",
      "source": [
        "8) Staric Pattern-Program\n"
      ],
      "metadata": {
        "id": "E2nsfis7lNeF"
      }
    },
    {
      "cell_type": "code",
      "source": [
        "row = int(input('Enter the number of rows'))\n",
        "for i in range(row+1,1,-1):\n",
        "  for j in range(i-1):\n",
        "    print('*',end='')\n",
        "  print()\n",
        "\n"
      ],
      "metadata": {
        "colab": {
          "base_uri": "https://localhost:8080/"
        },
        "id": "wKzKJ0tMlSSn",
        "outputId": "5e30100c-fe64-4f24-a066-63e1fbb1a821"
      },
      "execution_count": 17,
      "outputs": [
        {
          "output_type": "stream",
          "name": "stdout",
          "text": [
            "Enter the number of rows6\n",
            "******\n",
            "*****\n",
            "****\n",
            "***\n",
            "**\n",
            "*\n"
          ]
        }
      ]
    },
    {
      "cell_type": "markdown",
      "source": [
        "9) Diamond Pattern- Program"
      ],
      "metadata": {
        "id": "YYlYMplQ24tH"
      }
    },
    {
      "cell_type": "code",
      "source": [
        "rows = 5\n",
        "\n",
        "# Upper half\n",
        "for i in range(1, rows + 1):\n",
        "    print(\" \" * (rows - i) + \"*\" * (2 * i - 1))\n",
        "\n",
        "# Lower half\n",
        "for i in range(rows - 1, 0, -1):\n",
        "    print(\" \" * (rows - i) + \"*\" * (2 * i - 1))\n"
      ],
      "metadata": {
        "colab": {
          "base_uri": "https://localhost:8080/"
        },
        "id": "y5UXstkj4hap",
        "outputId": "a85135fe-57f4-4a48-8c98-7900a094e3de"
      },
      "execution_count": 22,
      "outputs": [
        {
          "output_type": "stream",
          "name": "stdout",
          "text": [
            "    *\n",
            "   ***\n",
            "  *****\n",
            " *******\n",
            "*********\n",
            " *******\n",
            "  *****\n",
            "   ***\n",
            "    *\n"
          ]
        }
      ]
    },
    {
      "cell_type": "markdown",
      "source": [
        "10) Program-Pattern\n",
        "1\n",
        "121\n",
        "12321\n",
        "1234321"
      ],
      "metadata": {
        "id": "gsrkZgbEo0Z7"
      }
    },
    {
      "cell_type": "code",
      "source": [
        "row = int(input('Enter the number of rows'))\n",
        "for i in range(1,row+1):\n",
        "  for j in range(1,i+1):\n",
        "    print(j,end='')\n",
        "  for k in range(i-1,0,-1):\n",
        "    print(k,end='')\n",
        "  print()"
      ],
      "metadata": {
        "colab": {
          "base_uri": "https://localhost:8080/"
        },
        "id": "aQcjhnG4o50Z",
        "outputId": "09778f3f-3fdc-4158-b287-e017515e723d"
      },
      "execution_count": 9,
      "outputs": [
        {
          "output_type": "stream",
          "name": "stdout",
          "text": [
            "Enter the number of rows4\n",
            "1\n",
            "121\n",
            "12321\n",
            "1234321\n"
          ]
        }
      ]
    },
    {
      "cell_type": "markdown",
      "source": [
        "11) Program-Find the prime between two ranges"
      ],
      "metadata": {
        "id": "HkpUQ97LtpXd"
      }
    },
    {
      "cell_type": "code",
      "source": [
        "lower = int(input('Enter the lower range'))\n",
        "upper = int(input('Enter the upper range'))\n",
        "for i in range(lower,upper+1):\n",
        "  for j in range(2,i):\n",
        "    if i%j == 0:\n",
        "      break\n",
        "  else:\n",
        "    print(i)\n",
        ""
      ],
      "metadata": {
        "colab": {
          "base_uri": "https://localhost:8080/"
        },
        "id": "sIewpi9UtueO",
        "outputId": "b2b627e9-66db-4fb7-d89f-841f89eb4ee9"
      },
      "execution_count": 11,
      "outputs": [
        {
          "output_type": "stream",
          "name": "stdout",
          "text": [
            "Enter the lower range3\n",
            "Enter the upper range17\n",
            "3\n",
            "5\n",
            "7\n",
            "11\n",
            "13\n",
            "17\n"
          ]
        }
      ]
    },
    {
      "cell_type": "markdown",
      "source": [
        " 12) Write a program that can check whether a given string is palindrome or not."
      ],
      "metadata": {
        "id": "e0Fg91ErboFf"
      }
    },
    {
      "cell_type": "code",
      "source": [
        "s = input('enter the string')\n",
        "flag = True\n",
        "for i in range(0,len(s)//2):\n",
        "  if s[i] != s[len(s) - i -1]:\n",
        "    flag = False\n",
        "    print('Not a Palindrome')\n",
        "    break\n",
        "\n",
        "if flag:\n",
        "  print('Palindrome')"
      ],
      "metadata": {
        "colab": {
          "base_uri": "https://localhost:8080/"
        },
        "id": "VOWWi_DwbpON",
        "outputId": "18781dd0-daaa-4805-a03d-aae377d355d8"
      },
      "execution_count": 33,
      "outputs": [
        {
          "output_type": "stream",
          "name": "stdout",
          "text": [
            "enter the stringnoon\n",
            "Palindrome\n"
          ]
        }
      ]
    },
    {
      "cell_type": "markdown",
      "source": [
        "13) Display Fibonacci series up to 10 terms"
      ],
      "metadata": {
        "id": "QRabaF5OoH59"
      }
    },
    {
      "cell_type": "code",
      "source": [
        "num1,num2 = 0,1\n",
        "\n",
        "for i in range(10):\n",
        "  print(num1)\n",
        "\n",
        "  next = num1 + num2\n",
        "\n",
        "  num1 = num2\n",
        "  num2 = next"
      ],
      "metadata": {
        "colab": {
          "base_uri": "https://localhost:8080/"
        },
        "id": "tI5wn2HxoLGE",
        "outputId": "1ae32cda-d7a5-40d3-e776-72acb84c7ce8"
      },
      "execution_count": 34,
      "outputs": [
        {
          "output_type": "stream",
          "name": "stdout",
          "text": [
            "0\n",
            "1\n",
            "1\n",
            "2\n",
            "3\n",
            "5\n",
            "8\n",
            "13\n",
            "21\n",
            "34\n"
          ]
        }
      ]
    },
    {
      "cell_type": "markdown",
      "source": [
        "14) Find the factorial of a given number."
      ],
      "metadata": {
        "id": "_kY3qeCEoSmt"
      }
    },
    {
      "cell_type": "code",
      "source": [
        "num = int(input('enter the number'))\n",
        "\n",
        "fact = 1\n",
        "for i in range(1,num+1):\n",
        "  fact = fact*i\n",
        "\n",
        "print(fact)"
      ],
      "metadata": {
        "colab": {
          "base_uri": "https://localhost:8080/"
        },
        "id": "co5rA8wroZL_",
        "outputId": "5144d6ab-e2a0-4d47-c4a0-dc880e321364"
      },
      "execution_count": 36,
      "outputs": [
        {
          "output_type": "stream",
          "name": "stdout",
          "text": [
            "enter the number7\n",
            "5040\n"
          ]
        }
      ]
    }
  ]
}